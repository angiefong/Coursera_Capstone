{
 "cells": [
  {
   "cell_type": "markdown",
   "metadata": {},
   "source": [
    "# Applied Data Science Capstone: Open a restaurant in Manhattan"
   ]
  },
  {
   "cell_type": "markdown",
   "metadata": {},
   "source": [
    "## 1. Introduction/ Business Problem"
   ]
  },
  {
   "cell_type": "markdown",
   "metadata": {},
   "source": [
    "This project is to help people planning to open a restaurant in Manhattan to choose the right location and type of restaurant based on the demographic, population, infrastructure and competition information."
   ]
  },
  {
   "cell_type": "markdown",
   "metadata": {},
   "source": [
    "## 2. Data"
   ]
  },
  {
   "cell_type": "markdown",
   "metadata": {},
   "source": [
    "To generate valuable insights, Foursquare location data as well as data about residence, infrastucture and existing businesses in each neighborhood of Manhattan will be used in the analysis. The following datasets might be useful in the process.\n",
    "\n",
    "1. Fourquare Location Data\n",
    "2. Neighborhood Names GIS: https://data.cityofnewyork.us/City-Government/Neighborhood-Names-GIS/99bc-9p23"
   ]
  },
  {
   "cell_type": "markdown",
   "metadata": {},
   "source": [
    "## 3. Methodology"
   ]
  },
  {
   "cell_type": "markdown",
   "metadata": {},
   "source": [
    "### Exploratory data analysis\n"
   ]
  },
  {
   "cell_type": "markdown",
   "metadata": {},
   "source": [
    "1. How many venues in each neighborhood.\n",
    "2. How many unique categories involved.\n",
    "3. What are the food categories that can be found in Manhattan.\n",
    "4. What are the food categories that can't be found in Manhattan.\n",
    "5. What are the venues of food categories in Manhattan.\n",
    "6. The proportion of food categories in each neighborhood of Manhattan.\n",
    "7. The most common venue categories in each neighborhood\n",
    "8. Proportion of venues in each categories in each neighborhood\n"
   ]
  },
  {
   "cell_type": "markdown",
   "metadata": {},
   "source": [
    "### Machine learnings"
   ]
  },
  {
   "cell_type": "markdown",
   "metadata": {},
   "source": [
    "1. K-Means clustering to find similar neighborhoods\n",
    "2. Suggest new branch locations based on similar cluster membership profile."
   ]
  },
  {
   "cell_type": "markdown",
   "metadata": {},
   "source": [
    "## 4. Results"
   ]
  },
  {
   "cell_type": "markdown",
   "metadata": {},
   "source": [
    "Just Salad has branches in Upper East Side, Lenox Hill, Financial District.\n",
    "100.0 % of  Just Salad 's stores are in neighborhood in cluster  0 .\n",
    "-------------------------------------------------\n",
    "Luke's Lobster has branches in Upper West Side, Financial District, Turtle Bay.\n",
    "100.0 % of  Luke's Lobster 's stores are in neighborhood in cluster  0 .\n",
    "-------------------------------------------------\n",
    "Magnolia Bakery has branches in Lincoln Square, West Village, Sutton Place.\n",
    "100.0 % of  Magnolia Bakery 's stores are in neighborhood in cluster  0 .\n",
    "-------------------------------------------------\n",
    "Oslo Coffee Roasters has branches in Lenox Hill, Clinton, West Village.\n",
    "100.0 % of  Oslo Coffee Roasters 's stores are in neighborhood in cluster  0 ."
   ]
  },
  {
   "cell_type": "markdown",
   "metadata": {},
   "source": [
    "## 5. Discussion"
   ]
  },
  {
   "cell_type": "markdown",
   "metadata": {},
   "source": [
    "I have chose venues with only 3 exsiting branches which might indicate that they have the potential to further expand. These are the more satisfactory result with majority of it's existing braches in one cluster so suggestion can be made with neighborhoods in that cluster."
   ]
  },
  {
   "cell_type": "markdown",
   "metadata": {},
   "source": [
    "## 6. Conclusion"
   ]
  },
  {
   "cell_type": "markdown",
   "metadata": {},
   "source": [
    "For Just Salad, Luke's Lobster, Magnolia Bakery and Oslo Coffee, all of their existing stores and in neighborhoods of cluster 0. Neighborhood in cluster 0 may be more suitable for a lot of franchised business at this scale to expand in. "
   ]
  },
  {
   "cell_type": "code",
   "execution_count": null,
   "metadata": {},
   "outputs": [],
   "source": []
  }
 ],
 "metadata": {
  "kernelspec": {
   "display_name": "Python 3",
   "language": "python",
   "name": "python3"
  },
  "language_info": {
   "codemirror_mode": {
    "name": "ipython",
    "version": 3
   },
   "file_extension": ".py",
   "mimetype": "text/x-python",
   "name": "python",
   "nbconvert_exporter": "python",
   "pygments_lexer": "ipython3",
   "version": "3.7.6"
  }
 },
 "nbformat": 4,
 "nbformat_minor": 4
}
