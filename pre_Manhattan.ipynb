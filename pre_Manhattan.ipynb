{
 "cells": [
  {
   "cell_type": "markdown",
   "metadata": {},
   "source": [
    "# Applied Data Science Capstone: Open a restaurant in Manhattan"
   ]
  },
  {
   "cell_type": "markdown",
   "metadata": {},
   "source": [
    "## 1. Introduction/ Business Problem"
   ]
  },
  {
   "cell_type": "markdown",
   "metadata": {},
   "source": [
    "This project is to help people planning to open a restaurant in Manhattan to choose the right location and type of restaurant based on the residence demographic, infrastructure and competition information."
   ]
  },
  {
   "cell_type": "markdown",
   "metadata": {},
   "source": [
    "## 2. Data"
   ]
  },
  {
   "cell_type": "markdown",
   "metadata": {},
   "source": [
    "To generate valuable insights, Foursquare location data as well as data about residence, infrastucture and existing businesses in each neighborhood of Manhattan will be used in the analysis. The following datasets might be useful in the process.\n",
    "\n",
    "1. Fourquare Location Data\n",
    "2. Neighborhood Names GIS: https://data.cityofnewyork.us/City-Government/Neighborhood-Names-GIS/99bc-9p23\n",
    "3. Subway Entrances: https://data.cityofnewyork.us/Transportation/Subway-Entrances/drex-xx56\n",
    "4. Demographic Statistics By Zip Code: https://data.cityofnewyork.us/City-Government/Demographic-Statistics-By-Zip-Code/kku6-nxdu\n"
   ]
  },
  {
   "cell_type": "code",
   "execution_count": null,
   "metadata": {},
   "outputs": [],
   "source": []
  }
 ],
 "metadata": {
  "kernelspec": {
   "display_name": "Python 3",
   "language": "python",
   "name": "python3"
  },
  "language_info": {
   "codemirror_mode": {
    "name": "ipython",
    "version": 3
   },
   "file_extension": ".py",
   "mimetype": "text/x-python",
   "name": "python",
   "nbconvert_exporter": "python",
   "pygments_lexer": "ipython3",
   "version": "3.7.6"
  }
 },
 "nbformat": 4,
 "nbformat_minor": 4
}
